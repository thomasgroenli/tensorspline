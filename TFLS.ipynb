{
 "cells": [
  {
   "cell_type": "code",
   "execution_count": null,
   "metadata": {
    "collapsed": true
   },
   "outputs": [],
   "source": [
    "import tensorflow as tf\n",
    "from tensorflow.python.client import timeline\n",
    "import numpy as np\n",
    "np.tau = 2*np.pi\n",
    "import matplotlib.pyplot as plt\n",
    "import time\n",
    "from concurrent.futures import ThreadPoolExecutor"
   ]
  },
  {
   "cell_type": "markdown",
   "metadata": {},
   "source": [
    "# Lamb-Oseen setup"
   ]
  },
  {
   "cell_type": "code",
   "execution_count": null,
   "metadata": {},
   "outputs": [],
   "source": [
    "Nx = Ny = 60\n",
    "xmin,xmax = -1,1\n",
    "ymin,ymax = -1,1\n",
    "X, Y = np.mgrid[xmin:xmax:Nx*1j,ymin:ymax:Ny*1j]\n",
    "\n",
    "\n",
    "Gamma = 20\n",
    "r0 = 0.5\n",
    "nu = 0.004\n",
    "P0=0\n",
    "rho = 1060\n",
    "\n",
    "rmax = np.sqrt(1.25643)*r0\n",
    "\n",
    "def LO(t):\n",
    "    V_th = Gamma/(np.tau*np.sqrt(X**2+Y**2))*(1-np.exp(-(X**2+Y**2)/(r0**2+4*nu*t)))\n",
    "    V_x = V_th*Y/np.sqrt(X**2+Y**2)\n",
    "    V_y = -V_th*X/np.sqrt(X**2+Y**2)\n",
    "    return np.stack((V_x,V_y),axis=0)\n",
    "\n",
    "\n",
    "\n",
    "theta = np.linspace(0,np.tau)\n",
    "wall_pos = np.stack((0.5+0.49*np.cos(theta),0.5+0.49*np.sin(theta)),axis=-1)\n",
    "wall_normals = np.stack((np.cos(theta),\n",
    "                        np.sin(theta)),axis=-1)\n",
    "vx,vy = LO(0)\n",
    "\n",
    "plt.quiver(wall_pos[...,0],wall_pos[...,1],wall_normals[...,0],wall_normals[...,1])\n",
    "plt.imshow(np.hypot(vx,vy),extent=[0,1,0,1])\n",
    "plt.show()"
   ]
  },
  {
   "cell_type": "markdown",
   "metadata": {},
   "source": [
    "# Divergence kernel"
   ]
  },
  {
   "cell_type": "code",
   "execution_count": null,
   "metadata": {},
   "outputs": [],
   "source": [
    "lins = np.linspace(-2,2,5)\n",
    "\n",
    "# Kernel values at grid positions\n",
    "kernel = [np.exp(-_x**2) for _x in lins]\n",
    "kernel_div = [np.exp(-_x**2)*-2*_x for _x in lins]\n",
    "\n",
    "div_kernel = np.dstack((np.prod(np.meshgrid(kernel_div,kernel,indexing='ij'),axis=0),\n",
    "                        np.prod(np.meshgrid(kernel,kernel_div,indexing='ij'),axis=0)))\n",
    "\n",
    "plt.subplot(211)\n",
    "plt.scatter(lins,np.exp(-lins**2))\n",
    "plt.scatter(lins,np.exp(-lins**2)*2*-lins)\n",
    "plt.subplot(223)\n",
    "plt.imshow(np.prod(np.meshgrid(kernel_div,kernel,indexing='ij'),axis=0).T)\n",
    "plt.subplot(224)\n",
    "plt.imshow(np.prod(np.meshgrid(kernel,kernel_div,indexing='ij'),axis=0).T)\n",
    "plt.show()\n"
   ]
  },
  {
   "cell_type": "markdown",
   "metadata": {},
   "source": [
    "# Computation"
   ]
  },
  {
   "cell_type": "code",
   "execution_count": null,
   "metadata": {},
   "outputs": [],
   "source": [
    "# Helper function to hide the nitty gritty spline details\n",
    "def compute_2d_splines(x):\n",
    "    indices = tf.cast(x/dx+1,tf.int32)\n",
    "    coeff = tf.gather_nd(C, XY[None]+indices[...,None,None,:])\n",
    "    offsets = (tf.mod(x/dx,1)[...,None,None,:]-tf.cast(XY[None],tf.float32))*dx\n",
    "    f = tf.exp(-tf.reduce_sum((offsets/sc)**2,axis=-1))\n",
    "    return tf.reduce_sum(f[...,None]*coeff,axis=(1,2))\n",
    "\n",
    "\n",
    "# Setup graph variables\n",
    "tf.reset_default_graph()\n",
    "dx = 0.15\n",
    "sc = dx\n",
    "\n",
    "# Compute shape directly instead\n",
    "n = np.mgrid[-dx:1+1.5*dx:dx,-dx:1+1.5*dx:dx].transpose(1,2,0)\n",
    "\n",
    "C = tf.Variable(np.zeros(n.shape[:-1]+(2,)),dtype=tf.float32)\n",
    "Div = tf.constant(div_kernel[...,None],dtype=tf.float32)\n",
    "\n",
    "x = tf.placeholder(np.float32)\n",
    "v = tf.placeholder(np.float32)\n",
    "w = tf.placeholder(np.float32)\n",
    "\n",
    "wall = tf.placeholder(np.float32)\n",
    "wall_n = tf.placeholder(np.float32)\n",
    "\n",
    "# Common\n",
    "r = tf.range(-1,3,dtype=tf.int32)\n",
    "XY = tf.transpose(tf.meshgrid(r,r))\n",
    "\n",
    "# Data fit\n",
    "model = compute_2d_splines(x)\n",
    "\n",
    "# Divergence fit\n",
    "model_div = tf.nn.conv2d(C[None],Div,[1, 1, 1, 1],'VALID')\n",
    "\n",
    "# Wall fit\n",
    "model_wall = tf.reduce_sum(compute_2d_splines(wall)*wall_n,axis=-1)\n",
    "\n",
    "# Setup loss terms\n",
    "Q0 = tf.reduce_mean(w*tf.square(model-v))\n",
    "Q1 = tf.reduce_mean(tf.square(C))\n",
    "Q2 = tf.reduce_mean(tf.square(model_div))\n",
    "Q3 = tf.reduce_mean(tf.square(model_wall))\n",
    "\n",
    "\n",
    "k1 = 0.1\n",
    "k2 = 10\n",
    "k3 = 10\n",
    "\n",
    "loss = Q0+k1*Q1+k2*Q2+k3*Q3\n",
    "\n",
    "# Training step\n",
    "train = tf.train.GradientDescentOptimizer(0.1).minimize(loss)\n",
    "\n",
    "# Initialize variables\n",
    "init = tf.global_variables_initializer()"
   ]
  },
  {
   "cell_type": "markdown",
   "metadata": {},
   "source": [
    "# Execute train steps"
   ]
  },
  {
   "cell_type": "code",
   "execution_count": null,
   "metadata": {},
   "outputs": [],
   "source": [
    "lo = LO(0).transpose(1,2,0)\n",
    "lo += 5*np.random.normal(size=lo.shape)\n",
    "pos = np.mgrid[0:0.999:Nx*1j,0:0.999:Ny*1j].transpose(1,2,0)\n",
    "\n",
    "weights = np.zeros((Nx,Ny,2))#np.random.rand(Nx,Ny)\n",
    "weights[:Nx//2,:Ny//2,0] = 1\n",
    "weights[Nx//2:,Ny//2:,1] = 1\n",
    "\n",
    "mask = np.asarray(np.sum(weights,axis=-1),dtype=np.bool)\n",
    "N = len(pos[mask])\n",
    "losses=[]\n",
    "with tf.Session() as sess:\n",
    "    sess.run(init)  \n",
    "\n",
    "    def trainer():\n",
    "        choice = np.random.randint(0,N,size=500)\n",
    "        losses.append(sess.run([loss,train],feed_dict={x:pos[mask][choice].reshape(-1,2),v:lo[mask][choice].reshape(-1,2),w:weights[mask][choice].reshape(-1,2),\n",
    "                                                       wall: wall_pos, wall_n: wall_normals}))[0]\n",
    "    with ThreadPoolExecutor(max_workers=16) as executor:\n",
    "        for i in range(300):\n",
    "            executor.submit(trainer)\n",
    "\n",
    "\n",
    "    c = sess.run(model,feed_dict={x:pos.reshape(-1,2)})\n",
    "plt.plot(losses)\n",
    "plt.show()"
   ]
  },
  {
   "cell_type": "markdown",
   "metadata": {},
   "source": [
    "# Visualize results"
   ]
  },
  {
   "cell_type": "code",
   "execution_count": null,
   "metadata": {},
   "outputs": [],
   "source": [
    "plt.subplot(231)\n",
    "plt.imshow(c.reshape(Nx,Ny,2)[...,0],clim=(-5,5))\n",
    "plt.title('Vx')\n",
    "plt.subplot(232)\n",
    "plt.imshow(LO(0).transpose(1,2,0)[...,0],clim=(-5,5))\n",
    "plt.title('Vx GT')\n",
    "plt.subplot(233)\n",
    "plt.imshow(1/weights[...,0]*lo[...,0],clim=(-10,10))\n",
    "plt.title('Vx input')\n",
    "\n",
    "plt.subplot(234)\n",
    "plt.imshow(c.reshape(Nx,Ny,2)[...,1],clim=(-5,5))\n",
    "plt.title('Vz')\n",
    "plt.subplot(235)\n",
    "plt.imshow(LO(0).transpose(1,2,0)[...,1],clim=(-5,5))\n",
    "plt.title('Vz GT')\n",
    "plt.subplot(236)\n",
    "plt.imshow(1/weights[...,1]*lo[...,1],clim=(-10,10))\n",
    "plt.title('Vz input')\n",
    "plt.tight_layout()\n",
    "plt.savefig('VFM.pdf')\n",
    "\n",
    "plt.show()"
   ]
  },
  {
   "cell_type": "markdown",
   "metadata": {},
   "source": [
    "# VFM"
   ]
  },
  {
   "cell_type": "code",
   "execution_count": null,
   "metadata": {
    "collapsed": true
   },
   "outputs": [],
   "source": [
    "# Setup graph variables\n",
    "tf.reset_default_graph()\n",
    "C = tf.Variable(np.zeros((Nx,Ny,2)),dtype=tf.float32)\n",
    "\n",
    "div = np.asarray([[1,-2,1],[1,-2,1],[1,-2,1]])\n",
    "lap = np.asarray([[0.5, 1.0, 0.5],[1.0, -6., 1.0],[0.5, 1.0, 0.5]])\n",
    "\n",
    "D = tf.constant(np.dstack((div,div.T))[...,None],dtype=np.float32)\n",
    "L = tf.constant(lap[...,None,None],dtype=np.float32)\n",
    "\n",
    "idx = tf.placeholder(np.int32)\n",
    "v = tf.placeholder(np.float32)\n",
    "w = tf.placeholder(np.float32)\n",
    "\n",
    "# Data fit\n",
    "model = tf.gather_nd(C,idx)\n",
    "\n",
    "# Divergence\n",
    "model_div = tf.nn.conv2d(C[None],D,[1, 1, 1, 1],'VALID')\n",
    "\n",
    "# Laplacian\n",
    "model_lap = tf.square(tf.nn.conv2d(C[None,...,:1],L,[1, 1, 1, 1],'VALID'))+tf.square(tf.nn.conv2d(C[None,...,1:],L,[1, 1, 1, 1],'VALID'))\n",
    "\n",
    "# Setup loss terms\n",
    "Q0 = tf.reduce_mean(w*tf.square(model-v))\n",
    "Q1 = tf.reduce_mean(tf.square(C))\n",
    "Q2 = tf.reduce_mean(tf.square(model_div))\n",
    "Q3 = tf.reduce_mean(model_lap)\n",
    "\n",
    "\n",
    "\n",
    "k1 = 0.01\n",
    "k2 = 50\n",
    "k3 = 50\n",
    "\n",
    "loss = Q0+k1*Q1+k2*Q2+k3*Q3\n",
    "\n",
    "# Training step\n",
    "train = tf.train.GradientDescentOptimizer(0.2).minimize(loss)\n",
    "\n",
    "# Initialize variables\n",
    "init = tf.global_variables_initializer()"
   ]
  },
  {
   "cell_type": "code",
   "execution_count": null,
   "metadata": {},
   "outputs": [],
   "source": [
    "lo = LO(0).transpose(1,2,0)\n",
    "lo += 10*np.random.normal(size=lo.shape)\n",
    "weights = np.ones((Nx,Ny,2))#np.random.rand(Nx,Ny)\n",
    "\n",
    "\n",
    "with tf.Session() as sess:\n",
    "    sess.run(init)\n",
    "    losses = []\n",
    "    for i in range(2000):\n",
    "        xs,ys = np.meshgrid(np.arange(Nx),np.arange(Ny),indexing='ij')\n",
    "        losses.append(sess.run([loss,train], feed_dict={idx:np.stack((xs.ravel(),ys.ravel()),axis=-1),v:lo.reshape(-1,2),w:weights.reshape(-1,2)})[0])\n",
    "    c = sess.run(C)\n",
    "    plt.plot(losses[len(losses)//2:])\n",
    "    plt.show()"
   ]
  },
  {
   "cell_type": "code",
   "execution_count": null,
   "metadata": {},
   "outputs": [],
   "source": [
    "plt.subplot(231)\n",
    "plt.imshow(c.reshape(Nx,Ny,2)[...,0],clim=(-5,5))\n",
    "plt.title('Vx')\n",
    "plt.subplot(232)\n",
    "plt.imshow(LO(0).transpose(1,2,0)[...,0],clim=(-5,5))\n",
    "plt.title('Vx GT')\n",
    "plt.subplot(233)\n",
    "plt.imshow(1/weights[...,0]*lo[...,0],clim=(-10,10))\n",
    "plt.title('Vx input')\n",
    "\n",
    "plt.subplot(234)\n",
    "plt.imshow(c.reshape(Nx,Ny,2)[...,1],clim=(-5,5))\n",
    "plt.title('Vz')\n",
    "plt.subplot(235)\n",
    "plt.imshow(LO(0).transpose(1,2,0)[...,1],clim=(-5,5))\n",
    "plt.title('Vz GT')\n",
    "plt.subplot(236)\n",
    "plt.imshow(1/weights[...,1]*lo[...,1],clim=(-10,10))\n",
    "plt.title('Vz input')\n",
    "plt.tight_layout()\n",
    "plt.savefig('VFM.pdf')\n",
    "\n",
    "plt.show()"
   ]
  },
  {
   "cell_type": "code",
   "execution_count": null,
   "metadata": {
    "collapsed": true
   },
   "outputs": [],
   "source": []
  }
 ],
 "metadata": {
  "kernelspec": {
   "display_name": "Python 3",
   "language": "python",
   "name": "python3"
  },
  "language_info": {
   "codemirror_mode": {
    "name": "ipython",
    "version": 3
   },
   "file_extension": ".py",
   "mimetype": "text/x-python",
   "name": "python",
   "nbconvert_exporter": "python",
   "pygments_lexer": "ipython3",
   "version": "3.6.2"
  }
 },
 "nbformat": 4,
 "nbformat_minor": 2
}
